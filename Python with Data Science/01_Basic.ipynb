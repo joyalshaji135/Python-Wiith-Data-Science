{
 "cells": [
  {
   "cell_type": "markdown",
   "id": "664cad86-c164-49fe-9135-65fb650810c0",
   "metadata": {},
   "source": [
    "# Python Basics Structure"
   ]
  },
  {
   "cell_type": "markdown",
   "id": "e59e1f0c-7d1c-409e-97ac-505947e9cc19",
   "metadata": {},
   "source": [
    "## Introduction to Python\n",
    "### Wrirting and run your first python script"
   ]
  },
  {
   "cell_type": "code",
   "execution_count": 2,
   "id": "def3331c-d52b-4aa6-bb6f-325a62a29e72",
   "metadata": {},
   "outputs": [
    {
     "name": "stdout",
     "output_type": "stream",
     "text": [
      "Hello World\n"
     ]
    }
   ],
   "source": [
    "print(\"Hello World\")"
   ]
  },
  {
   "cell_type": "markdown",
   "id": "d9f6d7dd-086b-4eb5-b0c9-3cb0b5f65006",
   "metadata": {},
   "source": [
    "## Python Version\n",
    "### To check the Python version of the editor, you can find it by importing the 'sys' module:"
   ]
  },
  {
   "cell_type": "code",
   "execution_count": 5,
   "id": "024738dc-3ddd-478e-976e-811781d1f566",
   "metadata": {},
   "outputs": [],
   "source": [
    "import sys"
   ]
  },
  {
   "cell_type": "code",
   "execution_count": 7,
   "id": "bcd83f03-8a97-4f6b-9aed-61b1492bb5e2",
   "metadata": {},
   "outputs": [
    {
     "name": "stdout",
     "output_type": "stream",
     "text": [
      "3.12.4 | packaged by Anaconda, Inc. | (main, Jun 18 2024, 15:03:56) [MSC v.1929 64 bit (AMD64)]\n"
     ]
    }
   ],
   "source": [
    "print(sys.version)"
   ]
  },
  {
   "cell_type": "markdown",
   "id": "d0917a5b-12a0-4eca-9c6d-73101caa9aab",
   "metadata": {},
   "source": [
    "## Python Indentation\n",
    "### Indentation refers to the spaces at the beginning of a code line.\n",
    "\n",
    "### Where in other programming languages the indentation in code is for readability only, the indentation in Python is very important."
   ]
  },
  {
   "cell_type": "code",
   "execution_count": 10,
   "id": "e30c9038-8f3f-4d53-a28c-bf34476fad3b",
   "metadata": {},
   "outputs": [
    {
     "name": "stdout",
     "output_type": "stream",
     "text": [
      "Five is greater than three !\n"
     ]
    }
   ],
   "source": [
    "if 5 > 3:\n",
    "    print(\"Five is greater than three !\")"
   ]
  },
  {
   "cell_type": "code",
   "execution_count": 14,
   "id": "c75cf98e-dccd-4c23-b1f2-4b62a8381d29",
   "metadata": {
    "scrolled": true
   },
   "outputs": [
    {
     "ename": "IndentationError",
     "evalue": "expected an indented block after 'if' statement on line 1 (4067630662.py, line 2)",
     "output_type": "error",
     "traceback": [
      "\u001b[1;36m  Cell \u001b[1;32mIn[14], line 2\u001b[1;36m\u001b[0m\n\u001b[1;33m    print(\"Five is greater the two !\")\u001b[0m\n\u001b[1;37m    ^\u001b[0m\n\u001b[1;31mIndentationError\u001b[0m\u001b[1;31m:\u001b[0m expected an indented block after 'if' statement on line 1\n"
     ]
    }
   ],
   "source": [
    "if 5 > 2:\n",
    "print(\"Five is greater the two !\")\n",
    "# this is not work"
   ]
  },
  {
   "cell_type": "code",
   "execution_count": 25,
   "id": "7a25f1e0-1775-486b-85b5-74c378321501",
   "metadata": {},
   "outputs": [
    {
     "name": "stdout",
     "output_type": "stream",
     "text": [
      "Five is greater than three !\n",
      "Five is greater the one !\n"
     ]
    }
   ],
   "source": [
    "if 5 > 3:\n",
    "    print(\"Five is greater than three !\")\n",
    "    if 5 > 1:\n",
    "         print(\"Five is greater the one !\")"
   ]
  },
  {
   "cell_type": "code",
   "execution_count": 27,
   "id": "294de170-bfba-4f86-92f8-c3686322f8f4",
   "metadata": {},
   "outputs": [
    {
     "ename": "IndentationError",
     "evalue": "unexpected indent (498153978.py, line 3)",
     "output_type": "error",
     "traceback": [
      "\u001b[1;36m  Cell \u001b[1;32mIn[27], line 3\u001b[1;36m\u001b[0m\n\u001b[1;33m    print(\"Five is greater than two !\")\u001b[0m\n\u001b[1;37m    ^\u001b[0m\n\u001b[1;31mIndentationError\u001b[0m\u001b[1;31m:\u001b[0m unexpected indent\n"
     ]
    }
   ],
   "source": [
    "if 5 > 2:\n",
    "    print(\"Five is greater than two !\")\n",
    "         print(\"Five is greater than two !\")"
   ]
  },
  {
   "cell_type": "code",
   "execution_count": 29,
   "id": "bb566fe8-a862-4b00-b38b-eab376b6ea6d",
   "metadata": {},
   "outputs": [
    {
     "ename": "IndentationError",
     "evalue": "unexpected indent (2308096759.py, line 3)",
     "output_type": "error",
     "traceback": [
      "\u001b[1;36m  Cell \u001b[1;32mIn[29], line 3\u001b[1;36m\u001b[0m\n\u001b[1;33m    if 5 > 1:\u001b[0m\n\u001b[1;37m    ^\u001b[0m\n\u001b[1;31mIndentationError\u001b[0m\u001b[1;31m:\u001b[0m unexpected indent\n"
     ]
    }
   ],
   "source": [
    "if 5 > 3:\n",
    "    print(\"Five is greater than three !\")\n",
    "        if 5 > 1:\n",
    "             print(\"Five is greater the one !\")"
   ]
  },
  {
   "cell_type": "code",
   "execution_count": null,
   "id": "8a4bd1c2-bcdb-41a8-a869-424c5896cc05",
   "metadata": {},
   "outputs": [],
   "source": []
  }
 ],
 "metadata": {
  "kernelspec": {
   "display_name": "Python 3 (ipykernel)",
   "language": "python",
   "name": "python3"
  },
  "language_info": {
   "codemirror_mode": {
    "name": "ipython",
    "version": 3
   },
   "file_extension": ".py",
   "mimetype": "text/x-python",
   "name": "python",
   "nbconvert_exporter": "python",
   "pygments_lexer": "ipython3",
   "version": "3.12.4"
  }
 },
 "nbformat": 4,
 "nbformat_minor": 5
}
